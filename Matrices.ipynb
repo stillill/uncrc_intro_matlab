{
 "cells": [
  {
   "cell_type": "markdown",
   "metadata": {},
   "source": [
    "# III. Introduction to Matrices"
   ]
  },
  {
   "cell_type": "markdown",
   "metadata": {},
   "source": [
    "Let's create a simple 4x4 matrix:"
   ]
  },
  {
   "cell_type": "code",
   "execution_count": 1,
   "metadata": {},
   "outputs": [
    {
     "name": "stdout",
     "output_type": "stream",
     "text": [
      "\n",
      "A =\n",
      "\n",
      "     1     2     3     4\n",
      "     5     6     7     8\n",
      "     9    10    11    12\n",
      "    13    14    15    16\n",
      "\n"
     ]
    }
   ],
   "source": [
    "A = [1 2 3 4; 5 6 7 8; 9 10 11 12; 13 14 15 16]"
   ]
  },
  {
   "cell_type": "markdown",
   "metadata": {},
   "source": [
    "When creating a matrix, each row of a matrix is its elements separated by spaces; and then the rows themselves are separated by __;__."
   ]
  },
  {
   "cell_type": "markdown",
   "metadata": {},
   "source": [
    "If you wanted the diagonal elements of A you would use the *diag* command:"
   ]
  },
  {
   "cell_type": "code",
   "execution_count": 2,
   "metadata": {},
   "outputs": [
    {
     "name": "stdout",
     "output_type": "stream",
     "text": [
      "\n",
      "ans =\n",
      "\n",
      "     1\n",
      "     6\n",
      "    11\n",
      "    16\n",
      "\n"
     ]
    }
   ],
   "source": [
    "diag(A)"
   ]
  },
  {
   "cell_type": "markdown",
   "metadata": {},
   "source": [
    "Matlab has built-in commands for creating many commonly used matrices. We can create a 2x2 matrix of zeros:"
   ]
  },
  {
   "cell_type": "code",
   "execution_count": 3,
   "metadata": {},
   "outputs": [
    {
     "name": "stdout",
     "output_type": "stream",
     "text": [
      "\n",
      "ans =\n",
      "\n",
      "     0     0\n",
      "     0     0\n",
      "\n"
     ]
    }
   ],
   "source": [
    "zeros(2)"
   ]
  },
  {
   "cell_type": "markdown",
   "metadata": {},
   "source": [
    "Or a 3x4 matrix of ones:"
   ]
  },
  {
   "cell_type": "code",
   "execution_count": 4,
   "metadata": {},
   "outputs": [
    {
     "name": "stdout",
     "output_type": "stream",
     "text": [
      "\n",
      "ans =\n",
      "\n",
      "     1     1     1     1\n",
      "     1     1     1     1\n",
      "     1     1     1     1\n",
      "\n"
     ]
    }
   ],
   "source": [
    "ones(3,4)"
   ]
  },
  {
   "cell_type": "markdown",
   "metadata": {},
   "source": [
    "To create the identity matrix use the *eye* command:"
   ]
  },
  {
   "cell_type": "code",
   "execution_count": 5,
   "metadata": {},
   "outputs": [
    {
     "name": "stdout",
     "output_type": "stream",
     "text": [
      "\n",
      "ans =\n",
      "\n",
      "     1     0     0     0\n",
      "     0     1     0     0\n",
      "     0     0     1     0\n",
      "     0     0     0     1\n",
      "\n"
     ]
    }
   ],
   "source": [
    "eye(4)"
   ]
  },
  {
   "cell_type": "markdown",
   "metadata": {},
   "source": [
    "To create a diagonal matrix:"
   ]
  },
  {
   "cell_type": "code",
   "execution_count": 6,
   "metadata": {},
   "outputs": [
    {
     "name": "stdout",
     "output_type": "stream",
     "text": [
      "\n",
      "ans =\n",
      "\n",
      "     1     0     0\n",
      "     0     3     0\n",
      "     0     0     5\n",
      "\n"
     ]
    }
   ],
   "source": [
    "diag([1 3 5])"
   ]
  },
  {
   "cell_type": "markdown",
   "metadata": {},
   "source": [
    "A random 3x3matrix where each element is uniformly distributed between 0 and 1:"
   ]
  },
  {
   "cell_type": "code",
   "execution_count": 7,
   "metadata": {},
   "outputs": [
    {
     "name": "stdout",
     "output_type": "stream",
     "text": [
      "\n",
      "ans =\n",
      "\n",
      "    0.8147    0.9134    0.2785\n",
      "    0.9058    0.6324    0.5469\n",
      "    0.1270    0.0975    0.9575\n",
      "\n"
     ]
    }
   ],
   "source": [
    "rand(3)"
   ]
  },
  {
   "cell_type": "markdown",
   "metadata": {},
   "source": [
    "A common operation is to create matrices using other matrices. Matrices can be constructed in block form. Here we create a matrix __result__ using the matrices __B__, __C__, __D__, and __E__:"
   ]
  },
  {
   "cell_type": "code",
   "execution_count": 8,
   "metadata": {},
   "outputs": [
    {
     "name": "stdout",
     "output_type": "stream",
     "text": [
      "\n",
      "result =\n",
      "\n",
      "     2     2     1     0\n",
      "     2     2     0     1\n",
      "     1     1     3     3\n",
      "     1     1     3     3\n",
      "\n"
     ]
    }
   ],
   "source": [
    "B = [2 2;2 2];\n",
    "C = eye(2);\n",
    "D = ones(2);\n",
    "E = [3 3;3 3];\n",
    "\n",
    "result = [B C; D E]"
   ]
  },
  {
   "cell_type": "markdown",
   "metadata": {},
   "source": [
    "The *repmat* function is very useful Matlab built-in used to construct tiled block matrices."
   ]
  },
  {
   "cell_type": "code",
   "execution_count": 9,
   "metadata": {},
   "outputs": [
    {
     "name": "stdout",
     "output_type": "stream",
     "text": [
      "\n",
      "ans =\n",
      "\n",
      "     2     2     1     0     2     2     1     0\n",
      "     2     2     0     1     2     2     0     1\n",
      "     1     1     3     3     1     1     3     3\n",
      "     1     1     3     3     1     1     3     3\n",
      "     2     2     1     0     2     2     1     0\n",
      "     2     2     0     1     2     2     0     1\n",
      "     1     1     3     3     1     1     3     3\n",
      "     1     1     3     3     1     1     3     3\n",
      "     2     2     1     0     2     2     1     0\n",
      "     2     2     0     1     2     2     0     1\n",
      "     1     1     3     3     1     1     3     3\n",
      "     1     1     3     3     1     1     3     3\n",
      "\n"
     ]
    }
   ],
   "source": [
    "repmat(result,3,2)"
   ]
  },
  {
   "cell_type": "markdown",
   "metadata": {},
   "source": [
    "### Indexing Into Matrices"
   ]
  },
  {
   "cell_type": "markdown",
   "metadata": {},
   "source": [
    "A common need is the ability to index into a matrix and extract parts of the matrix (i.e. a submatrix). In Matlab indexing into a matrix is accomplished using parentheses. Let's consider our matrix __result__:"
   ]
  },
  {
   "cell_type": "markdown",
   "metadata": {},
   "source": [
    "Suppose we want to extract the upper left matrix of 2s and assign it to a new variable called __subupper__. Indexing starts at 1 and we'd simply specify the range of rows and columns desired. Here we want rows 1 through 2 and columns 1 through 2:"
   ]
  },
  {
   "cell_type": "code",
   "execution_count": 10,
   "metadata": {},
   "outputs": [
    {
     "name": "stdout",
     "output_type": "stream",
     "text": [
      "\n",
      "subupper =\n",
      "\n",
      "     2     2\n",
      "     2     2\n",
      "\n"
     ]
    }
   ],
   "source": [
    "subupper = result(1:2, 1:2)"
   ]
  },
  {
   "cell_type": "markdown",
   "metadata": {},
   "source": [
    "If we wanted the middle two rows but only columns 1 through 3:"
   ]
  },
  {
   "cell_type": "code",
   "execution_count": 11,
   "metadata": {},
   "outputs": [
    {
     "name": "stdout",
     "output_type": "stream",
     "text": [
      "\n",
      "midrows =\n",
      "\n",
      "     2     2     0\n",
      "     1     1     3\n",
      "\n"
     ]
    }
   ],
   "source": [
    "midrows = result(2:3, 1:3)"
   ]
  },
  {
   "cell_type": "markdown",
   "metadata": {},
   "source": [
    "What if we wanted the first two columns?"
   ]
  },
  {
   "cell_type": "code",
   "execution_count": 12,
   "metadata": {},
   "outputs": [
    {
     "name": "stdout",
     "output_type": "stream",
     "text": [
      "\n",
      "firstcols =\n",
      "\n",
      "     2     2\n",
      "     2     2\n",
      "     1     1\n",
      "     1     1\n",
      "\n"
     ]
    }
   ],
   "source": [
    "firstcols = result(1:4,1:2)"
   ]
  },
  {
   "cell_type": "markdown",
   "metadata": {},
   "source": [
    "Another way to do the same thing using the \"end\" keyword:"
   ]
  },
  {
   "cell_type": "code",
   "execution_count": 13,
   "metadata": {},
   "outputs": [
    {
     "name": "stdout",
     "output_type": "stream",
     "text": [
      "\n",
      "firstcols =\n",
      "\n",
      "     2     2\n",
      "     2     2\n",
      "     1     1\n",
      "     1     1\n",
      "\n"
     ]
    }
   ],
   "source": [
    "firstcols = result(1:end, 1:2)"
   ]
  },
  {
   "cell_type": "markdown",
   "metadata": {},
   "source": [
    "You can use the colon \":\" notation to get the entire range of the dimension of interest:"
   ]
  },
  {
   "cell_type": "code",
   "execution_count": 14,
   "metadata": {},
   "outputs": [
    {
     "name": "stdout",
     "output_type": "stream",
     "text": [
      "\n",
      "ans =\n",
      "\n",
      "     1\n",
      "     0\n",
      "     3\n",
      "     3\n",
      "\n"
     ]
    }
   ],
   "source": [
    "result(:,3)"
   ]
  },
  {
   "cell_type": "markdown",
   "metadata": {},
   "source": [
    "Above we asked for all the rows and just the third column of the matrix __result__."
   ]
  },
  {
   "cell_type": "markdown",
   "metadata": {},
   "source": [
    "You can be specific about what you want. What if you wanted just the corner numbers?"
   ]
  },
  {
   "cell_type": "code",
   "execution_count": 15,
   "metadata": {},
   "outputs": [
    {
     "name": "stdout",
     "output_type": "stream",
     "text": [
      "\n",
      "ans =\n",
      "\n",
      "     2     0\n",
      "     1     3\n",
      "\n"
     ]
    }
   ],
   "source": [
    "result([1 end], [1 end])"
   ]
  },
  {
   "cell_type": "markdown",
   "metadata": {},
   "source": [
    "### Memory Layout of Matrices"
   ]
  },
  {
   "cell_type": "markdown",
   "metadata": {},
   "source": [
    "You can also think of a matrix as being stored as a single long array with the first column being stacked on top of the second column, the second column on top of the third column, etc. This approach to storing multidimensional arrays is referred to as __column-major order__.\n",
    "\n",
    "So you can also index into the matrix using a single index instead of specifying the row and column indices. Let's see how this works using the matrix A we created above."
   ]
  },
  {
   "cell_type": "code",
   "execution_count": 16,
   "metadata": {},
   "outputs": [
    {
     "name": "stdout",
     "output_type": "stream",
     "text": [
      "\n",
      "A =\n",
      "\n",
      "     1     2     3     4\n",
      "     5     6     7     8\n",
      "     9    10    11    12\n",
      "    13    14    15    16\n",
      "\n"
     ]
    }
   ],
   "source": [
    "A"
   ]
  },
  {
   "cell_type": "code",
   "execution_count": 17,
   "metadata": {},
   "outputs": [
    {
     "name": "stdout",
     "output_type": "stream",
     "text": [
      "\n",
      "ans =\n",
      "\n",
      "     1\n",
      "     5\n",
      "     9\n",
      "    13\n",
      "     2\n",
      "     6\n",
      "    10\n",
      "    14\n",
      "     3\n",
      "     7\n",
      "    11\n",
      "    15\n",
      "     4\n",
      "     8\n",
      "    12\n",
      "    16\n",
      "\n"
     ]
    }
   ],
   "source": [
    "A(:)"
   ]
  },
  {
   "cell_type": "markdown",
   "metadata": {},
   "source": [
    "The index count starts at one as before. So, here __A(1)__ is 1, __A(2)__ is 5, __A(7)__ is 10, etc. There are 16 total elements in __A__ so the last element __A(16)__ is 16."
   ]
  },
  {
   "cell_type": "code",
   "execution_count": 18,
   "metadata": {},
   "outputs": [
    {
     "name": "stdout",
     "output_type": "stream",
     "text": [
      "\n",
      "ans =\n",
      "\n",
      "    10\n",
      "\n"
     ]
    }
   ],
   "source": [
    "A(7)"
   ]
  },
  {
   "cell_type": "markdown",
   "metadata": {},
   "source": [
    "We saw the \":\" notation before and how it's used to specify a range of numbers, i.e. 1:3. This syntax is often used in Matlab to create vectors. __begin:stride:end__ is the general syntax and by default __stride__ has a value of 1 (i.e. if not specified):"
   ]
  },
  {
   "cell_type": "code",
   "execution_count": 19,
   "metadata": {},
   "outputs": [
    {
     "name": "stdout",
     "output_type": "stream",
     "text": [
      "\n",
      "a =\n",
      "\n",
      "     1     2     3     4     5     6     7     8     9    10\n",
      "\n"
     ]
    }
   ],
   "source": [
    "a = 1:10"
   ]
  },
  {
   "cell_type": "markdown",
   "metadata": {},
   "source": [
    "If you wanted to go from 3 to 8 in increments of 0.5 you can specify a stride of 0.5:"
   ]
  },
  {
   "cell_type": "code",
   "execution_count": 20,
   "metadata": {},
   "outputs": [
    {
     "name": "stdout",
     "output_type": "stream",
     "text": [
      "\n",
      "b =\n",
      "\n",
      "  Columns 1 through 7\n",
      "\n",
      "    3.0000    3.5000    4.0000    4.5000    5.0000    5.5000    6.0000\n",
      "\n",
      "  Columns 8 through 11\n",
      "\n",
      "    6.5000    7.0000    7.5000    8.0000\n",
      "\n"
     ]
    }
   ],
   "source": [
    "b = 3:0.5:8"
   ]
  },
  {
   "cell_type": "markdown",
   "metadata": {},
   "source": [
    "Or if you wanted a sequence to start at -20 and go to 1 in increments of 1.3:"
   ]
  },
  {
   "cell_type": "code",
   "execution_count": 21,
   "metadata": {},
   "outputs": [
    {
     "name": "stdout",
     "output_type": "stream",
     "text": [
      "\n",
      "c =\n",
      "\n",
      "  Columns 1 through 7\n",
      "\n",
      "  -20.0000  -18.7000  -17.4000  -16.1000  -14.8000  -13.5000  -12.2000\n",
      "\n",
      "  Columns 8 through 14\n",
      "\n",
      "  -10.9000   -9.6000   -8.3000   -7.0000   -5.7000   -4.4000   -3.1000\n",
      "\n",
      "  Columns 15 through 17\n",
      "\n",
      "   -1.8000   -0.5000    0.8000\n",
      "\n"
     ]
    }
   ],
   "source": [
    "c = -20:1.3:1"
   ]
  },
  {
   "cell_type": "markdown",
   "metadata": {},
   "source": [
    "Notice Matlab could not reach all the way to 1 using the specified increment of 1.3; so it went up in increments of 1.3 until it reached as close to 1 without going beyond 1."
   ]
  },
  {
   "cell_type": "markdown",
   "metadata": {},
   "source": [
    "The linspace command will create n equally spaced points between a and b, *linspace(__a__,__b__,__n__)*:"
   ]
  },
  {
   "cell_type": "code",
   "execution_count": 22,
   "metadata": {},
   "outputs": [
    {
     "name": "stdout",
     "output_type": "stream",
     "text": [
      "\n",
      "ans =\n",
      "\n",
      "  Columns 1 through 7\n",
      "\n",
      "    1.5000    1.9444    2.3889    2.8333    3.2778    3.7222    4.1667\n",
      "\n",
      "  Columns 8 through 10\n",
      "\n",
      "    4.6111    5.0556    5.5000\n",
      "\n"
     ]
    }
   ],
   "source": [
    "linspace(1.5, 5.5, 10)"
   ]
  },
  {
   "cell_type": "markdown",
   "metadata": {},
   "source": [
    "Before moving on to basic operations with matrices I'll mention that you can create large (i.e., more than two ) dimenional arrays in Matlab as well. For example, the following creates a 4x3x3 random matrix:"
   ]
  },
  {
   "cell_type": "code",
   "execution_count": 23,
   "metadata": {},
   "outputs": [
    {
     "name": "stdout",
     "output_type": "stream",
     "text": [
      "\n",
      "F(:,:,1) =\n",
      "\n",
      "    2.7694   -0.0631    1.4897\n",
      "   -1.3499    0.7147    1.4090\n",
      "    3.0349   -0.2050    1.4172\n",
      "    0.7254   -0.1241    0.6715\n",
      "\n",
      "\n",
      "F(:,:,2) =\n",
      "\n",
      "   -1.2075    1.0347   -0.7873\n",
      "    0.7172    0.7269    0.8884\n",
      "    1.6302   -0.3034   -1.1471\n",
      "    0.4889    0.2939   -1.0689\n",
      "\n",
      "\n",
      "F(:,:,3) =\n",
      "\n",
      "   -0.8095   -0.7549   -0.2414\n",
      "   -2.9443    1.3703    0.3192\n",
      "    1.4384   -1.7115    0.3129\n",
      "    0.3252   -0.1022   -0.8649\n",
      "\n"
     ]
    }
   ],
   "source": [
    "F = randn(4, 3, 3)"
   ]
  },
  {
   "cell_type": "markdown",
   "metadata": {},
   "source": [
    "You can think of this as 3 \"layers\" of individual 4x3 matrices (i.e. a cube), i.e. each layer is a 4x3 matrix. You can index into multidementional arrays as well:"
   ]
  },
  {
   "cell_type": "code",
   "execution_count": 24,
   "metadata": {},
   "outputs": [
    {
     "name": "stdout",
     "output_type": "stream",
     "text": [
      "\n",
      "G(:,:,1) =\n",
      "\n",
      "   -0.0631    1.4897\n",
      "    0.7147    1.4090\n",
      "\n",
      "\n",
      "G(:,:,2) =\n",
      "\n",
      "    1.0347   -0.7873\n",
      "    0.7269    0.8884\n",
      "\n",
      "\n",
      "G(:,:,3) =\n",
      "\n",
      "   -0.7549   -0.2414\n",
      "    1.3703    0.3192\n",
      "\n"
     ]
    }
   ],
   "source": [
    "G = F(1:2, 2:3, :)"
   ]
  },
  {
   "cell_type": "markdown",
   "metadata": {},
   "source": [
    "Above, we specified columns 2 through 3 of the first two rows from all the layers."
   ]
  },
  {
   "cell_type": "markdown",
   "metadata": {},
   "source": [
    "You can do many of the common matrix operations in Matlab. I'm going to use the *reshape* command and the \":\" notation we learned earlier to create two matrices __A__ and __B__:"
   ]
  },
  {
   "cell_type": "code",
   "execution_count": 25,
   "metadata": {},
   "outputs": [
    {
     "name": "stdout",
     "output_type": "stream",
     "text": [
      "\n",
      "A =\n",
      "\n",
      "     1     4     7    10    13\n",
      "     2     5     8    11    14\n",
      "     3     6     9    12    15\n",
      "\n"
     ]
    }
   ],
   "source": [
    "A = reshape(1:15, 3, 5)"
   ]
  },
  {
   "cell_type": "markdown",
   "metadata": {},
   "source": [
    "We used the __reshape__ command above to arrange the array of numbers 1, 2,...,15 into a 3x5 matrix."
   ]
  },
  {
   "cell_type": "markdown",
   "metadata": {},
   "source": [
    "Next we'll create a new matrix __B__ which is equal to the matrix __A__ but with every element of __A__ multiplied by 2:"
   ]
  },
  {
   "cell_type": "code",
   "execution_count": 26,
   "metadata": {},
   "outputs": [
    {
     "name": "stdout",
     "output_type": "stream",
     "text": [
      "\n",
      "B =\n",
      "\n",
      "     2     8    14    20    26\n",
      "     4    10    16    22    28\n",
      "     6    12    18    24    30\n",
      "\n"
     ]
    }
   ],
   "source": [
    "B = 2 * A"
   ]
  },
  {
   "cell_type": "markdown",
   "metadata": {},
   "source": [
    "To add these two matrices:"
   ]
  },
  {
   "cell_type": "code",
   "execution_count": 27,
   "metadata": {},
   "outputs": [
    {
     "name": "stdout",
     "output_type": "stream",
     "text": [
      "\n",
      "ans =\n",
      "\n",
      "     3    12    21    30    39\n",
      "     6    15    24    33    42\n",
      "     9    18    27    36    45\n",
      "\n"
     ]
    }
   ],
   "source": [
    "A + B"
   ]
  },
  {
   "cell_type": "markdown",
   "metadata": {},
   "source": [
    "To multiply __A__ with the transpose of __B__:"
   ]
  },
  {
   "cell_type": "code",
   "execution_count": 28,
   "metadata": {},
   "outputs": [
    {
     "name": "stdout",
     "output_type": "stream",
     "text": [
      "\n",
      "ans =\n",
      "\n",
      "   670   740   810\n",
      "   740   820   900\n",
      "   810   900   990\n",
      "\n"
     ]
    }
   ],
   "source": [
    "A * B'"
   ]
  },
  {
   "cell_type": "markdown",
   "metadata": {},
   "source": [
    "You can take powers of square matrices. Let's create a square matrix __C__ equal to the upper 2x2 submatrix of A and raise this to the 2nd power, i.e. C * C:"
   ]
  },
  {
   "cell_type": "code",
   "execution_count": 29,
   "metadata": {},
   "outputs": [
    {
     "name": "stdout",
     "output_type": "stream",
     "text": [
      "\n",
      "ans =\n",
      "\n",
      "     9    24\n",
      "    12    33\n",
      "\n"
     ]
    }
   ],
   "source": [
    "C = A(1:2,1:2);\n",
    "C^2   %same as C*C"
   ]
  },
  {
   "cell_type": "markdown",
   "metadata": {},
   "source": [
    "To do elementwise operations using the matrices __A__ and __B__ use the \".\" notation. Here we'll do elementwise multiplication and element wise division:"
   ]
  },
  {
   "cell_type": "code",
   "execution_count": 30,
   "metadata": {},
   "outputs": [
    {
     "name": "stdout",
     "output_type": "stream",
     "text": [
      "\n",
      "ans =\n",
      "\n",
      "     2    32    98   200   338\n",
      "     8    50   128   242   392\n",
      "    18    72   162   288   450\n",
      "\n"
     ]
    }
   ],
   "source": [
    "A .* B   %this is different from A*B"
   ]
  },
  {
   "cell_type": "code",
   "execution_count": 31,
   "metadata": {},
   "outputs": [
    {
     "name": "stdout",
     "output_type": "stream",
     "text": [
      "\n",
      "ans =\n",
      "\n",
      "    0.5000    0.5000    0.5000    0.5000    0.5000\n",
      "    0.5000    0.5000    0.5000    0.5000    0.5000\n",
      "    0.5000    0.5000    0.5000    0.5000    0.5000\n",
      "\n"
     ]
    }
   ],
   "source": [
    "A ./ B   %this is different from A/B"
   ]
  },
  {
   "cell_type": "markdown",
   "metadata": {},
   "source": [
    "Create a new matrix which is the matrix __A__ but with every element raised to the 2nd power:"
   ]
  },
  {
   "cell_type": "code",
   "execution_count": 32,
   "metadata": {},
   "outputs": [
    {
     "name": "stdout",
     "output_type": "stream",
     "text": [
      "\n",
      "ans =\n",
      "\n",
      "     1    16    49   100   169\n",
      "     4    25    64   121   196\n",
      "     9    36    81   144   225\n",
      "\n"
     ]
    }
   ],
   "source": [
    "A .^ 2   %this is different from A^2"
   ]
  },
  {
   "cell_type": "markdown",
   "metadata": {},
   "source": [
    "### Applying Functions to Matrices"
   ]
  },
  {
   "cell_type": "markdown",
   "metadata": {},
   "source": [
    "You can apply functions to the matrix as a whole and the function will get applied to each element in the matrix. We apply Matlab's built-in *sin* function to __A__:"
   ]
  },
  {
   "cell_type": "code",
   "execution_count": 33,
   "metadata": {},
   "outputs": [
    {
     "name": "stdout",
     "output_type": "stream",
     "text": [
      "\n",
      "A =\n",
      "\n",
      "     1     4     7    10    13\n",
      "     2     5     8    11    14\n",
      "     3     6     9    12    15\n",
      "\n"
     ]
    }
   ],
   "source": [
    "A"
   ]
  },
  {
   "cell_type": "code",
   "execution_count": 34,
   "metadata": {},
   "outputs": [
    {
     "name": "stdout",
     "output_type": "stream",
     "text": [
      "\n",
      "ans =\n",
      "\n",
      "    0.8415   -0.7568    0.6570   -0.5440    0.4202\n",
      "    0.9093   -0.9589    0.9894   -1.0000    0.9906\n",
      "    0.1411   -0.2794    0.4121   -0.5366    0.6503\n",
      "\n"
     ]
    }
   ],
   "source": [
    "sin(A)"
   ]
  },
  {
   "cell_type": "markdown",
   "metadata": {},
   "source": [
    "There are other useful built-in functions that can be applied to matrices. Let's consider the *sum* function:"
   ]
  },
  {
   "cell_type": "code",
   "execution_count": 35,
   "metadata": {},
   "outputs": [
    {
     "name": "stdout",
     "output_type": "stream",
     "text": [
      "\n",
      "ans =\n",
      "\n",
      "     6    15    24    33    42\n",
      "\n"
     ]
    }
   ],
   "source": [
    "sum(A)"
   ]
  },
  {
   "cell_type": "markdown",
   "metadata": {},
   "source": [
    "By default, you get the sum of each column (i.e. across the rows). To get the sum by row (i.e. across the columns):"
   ]
  },
  {
   "cell_type": "code",
   "execution_count": 36,
   "metadata": {},
   "outputs": [
    {
     "name": "stdout",
     "output_type": "stream",
     "text": [
      "\n",
      "ans =\n",
      "\n",
      "    35\n",
      "    40\n",
      "    45\n",
      "\n"
     ]
    }
   ],
   "source": [
    "sum(A,2)"
   ]
  },
  {
   "cell_type": "markdown",
   "metadata": {},
   "source": [
    "Here the second argument indicates the dimension to sum across; so by default, the second argument is equal to 1."
   ]
  },
  {
   "cell_type": "markdown",
   "metadata": {},
   "source": [
    "To sum up all the numbers in the matrix what would you do? You could try the following:"
   ]
  },
  {
   "cell_type": "code",
   "execution_count": 37,
   "metadata": {},
   "outputs": [
    {
     "name": "stdout",
     "output_type": "stream",
     "text": [
      "\n",
      "ans =\n",
      "\n",
      "   120\n",
      "\n"
     ]
    }
   ],
   "source": [
    "sum(sum(A))"
   ]
  },
  {
   "cell_type": "markdown",
   "metadata": {},
   "source": [
    "You could also do"
   ]
  },
  {
   "cell_type": "code",
   "execution_count": 38,
   "metadata": {},
   "outputs": [
    {
     "name": "stdout",
     "output_type": "stream",
     "text": [
      "\n",
      "ans =\n",
      "\n",
      "   120\n",
      "\n"
     ]
    }
   ],
   "source": [
    "sum(A(:))"
   ]
  },
  {
   "cell_type": "markdown",
   "metadata": {},
   "source": [
    "There are other useful functions that can be applied to matrices: min, max, mean, median, sort. Let's consider a few of these."
   ]
  },
  {
   "cell_type": "code",
   "execution_count": 39,
   "metadata": {},
   "outputs": [
    {
     "name": "stdout",
     "output_type": "stream",
     "text": [
      "\n",
      "ans =\n",
      "\n",
      "     3     6     9    12    15\n",
      "\n"
     ]
    }
   ],
   "source": [
    "max(A)"
   ]
  },
  {
   "cell_type": "markdown",
   "metadata": {},
   "source": [
    "The *max* function by default returns the maximum of each column. As you can guess, to get the maximum of each row just specify the row dimension as an input to the command:"
   ]
  },
  {
   "cell_type": "code",
   "execution_count": 40,
   "metadata": {},
   "outputs": [
    {
     "name": "stdout",
     "output_type": "stream",
     "text": [
      "\n",
      "ans =\n",
      "\n",
      "    13\n",
      "    14\n",
      "    15\n",
      "\n"
     ]
    }
   ],
   "source": [
    "max(A,[],2)"
   ]
  },
  {
   "cell_type": "markdown",
   "metadata": {},
   "source": [
    "Note the use of \"[ ]\" in the above command which prevents Matlab from doing an elementwise max comparison. To calculate the mean by column:"
   ]
  },
  {
   "cell_type": "code",
   "execution_count": 41,
   "metadata": {},
   "outputs": [
    {
     "name": "stdout",
     "output_type": "stream",
     "text": [
      "\n",
      "ans =\n",
      "\n",
      "     2     5     8    11    14\n",
      "\n"
     ]
    }
   ],
   "source": [
    "mean(A)"
   ]
  },
  {
   "cell_type": "markdown",
   "metadata": {},
   "source": [
    "And calculating the mean by row:"
   ]
  },
  {
   "cell_type": "code",
   "execution_count": 42,
   "metadata": {},
   "outputs": [
    {
     "name": "stdout",
     "output_type": "stream",
     "text": [
      "\n",
      "ans =\n",
      "\n",
      "     7\n",
      "     8\n",
      "     9\n",
      "\n"
     ]
    }
   ],
   "source": [
    "mean(A,2)"
   ]
  },
  {
   "cell_type": "markdown",
   "metadata": {},
   "source": [
    "The last function we'll consider is *sort*. The default is to sort each column in ascending order:"
   ]
  },
  {
   "cell_type": "code",
   "execution_count": 43,
   "metadata": {},
   "outputs": [
    {
     "name": "stdout",
     "output_type": "stream",
     "text": [
      "\n",
      "result =\n",
      "\n",
      "     2     2     1     0\n",
      "     2     2     0     1\n",
      "     1     1     3     3\n",
      "     1     1     3     3\n",
      "\n"
     ]
    }
   ],
   "source": [
    "result"
   ]
  },
  {
   "cell_type": "code",
   "execution_count": 44,
   "metadata": {},
   "outputs": [
    {
     "name": "stdout",
     "output_type": "stream",
     "text": [
      "\n",
      "ans =\n",
      "\n",
      "     1     1     0     0\n",
      "     1     1     1     1\n",
      "     2     2     3     3\n",
      "     2     2     3     3\n",
      "\n"
     ]
    }
   ],
   "source": [
    "sort(result)"
   ]
  },
  {
   "cell_type": "markdown",
   "metadata": {},
   "source": [
    "If you wanted each column sorted in descending order:"
   ]
  },
  {
   "cell_type": "code",
   "execution_count": 45,
   "metadata": {},
   "outputs": [
    {
     "name": "stdout",
     "output_type": "stream",
     "text": [
      "\n",
      "ans =\n",
      "\n",
      "     2     2     3     3\n",
      "     2     2     3     3\n",
      "     1     1     1     1\n",
      "     1     1     0     0\n",
      "\n"
     ]
    }
   ],
   "source": [
    "sort(result,'descend')"
   ]
  },
  {
   "cell_type": "markdown",
   "metadata": {},
   "source": [
    "And to sort each row:"
   ]
  },
  {
   "cell_type": "code",
   "execution_count": 46,
   "metadata": {},
   "outputs": [
    {
     "name": "stdout",
     "output_type": "stream",
     "text": [
      "\n",
      "ans =\n",
      "\n",
      "     0     1     2     2\n",
      "     0     1     2     2\n",
      "     1     1     3     3\n",
      "     1     1     3     3\n",
      "\n"
     ]
    }
   ],
   "source": [
    "sort(result,2)"
   ]
  },
  {
   "cell_type": "markdown",
   "metadata": {},
   "source": [
    "A useful thing may be to sort only by a single column (i.e. the third column). For this you can use the *sortrows* functions and specify the column to sort by:"
   ]
  },
  {
   "cell_type": "code",
   "execution_count": 47,
   "metadata": {},
   "outputs": [
    {
     "name": "stdout",
     "output_type": "stream",
     "text": [
      "\n",
      "result =\n",
      "\n",
      "     2     2     1     0\n",
      "     2     2     0     1\n",
      "     1     1     3     3\n",
      "     1     1     3     3\n",
      "\n"
     ]
    }
   ],
   "source": [
    "result"
   ]
  },
  {
   "cell_type": "code",
   "execution_count": 48,
   "metadata": {},
   "outputs": [
    {
     "name": "stdout",
     "output_type": "stream",
     "text": [
      "\n",
      "ans =\n",
      "\n",
      "     2     2     0     1\n",
      "     2     2     1     0\n",
      "     1     1     3     3\n",
      "     1     1     3     3\n",
      "\n"
     ]
    }
   ],
   "source": [
    "sortrows(result,3)"
   ]
  },
  {
   "cell_type": "markdown",
   "metadata": {},
   "source": [
    "# Exercise 2.\n",
    "\n",
    "1. Create a 4x4 random matrix called __mymat__ using the *rand* function.\n",
    "2. Change every element of the second row to be equal to three.\n",
    "2. Add two to every element of the modified matrix and than take the transpose and assign the result to a new matrix called __mymat_new__.\n",
    "3. Find the maximum of each column of __mymat_new__."
   ]
  },
  {
   "cell_type": "markdown",
   "metadata": {},
   "source": [
    "In this lesson you learned:\n",
    "* How to create and modify matrices.\n",
    "* How to index into matrices.\n",
    "* Matrix operations.\n",
    "* Applying functions to matrices."
   ]
  }
 ],
 "metadata": {
  "kernelspec": {
   "display_name": "Matlab",
   "language": "matlab",
   "name": "matlab"
  },
  "language_info": {
   "codemirror_mode": "octave",
   "file_extension": ".m",
   "help_links": [
    {
     "text": "MetaKernel Magics",
     "url": "https://metakernel.readthedocs.io/en/latest/source/README.html"
    }
   ],
   "mimetype": "text/x-octave",
   "name": "matlab",
   "version": "0.17.1"
  }
 },
 "nbformat": 4,
 "nbformat_minor": 4
}
