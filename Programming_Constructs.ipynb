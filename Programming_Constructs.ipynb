{
 "cells": [
  {
   "cell_type": "markdown",
   "metadata": {},
   "source": [
    "# IV. Basic Programming Constructs"
   ]
  },
  {
   "cell_type": "markdown",
   "metadata": {},
   "source": [
    "In this notebook we'll go over some basic logical and comparison operators and control flow statements in Matlab. These are common programming constructs you'll likely be using when writing your Matlab code."
   ]
  },
  {
   "cell_type": "markdown",
   "metadata": {},
   "source": [
    "### Logical and Relational Operators"
   ]
  },
  {
   "cell_type": "markdown",
   "metadata": {},
   "source": [
    "To get started you'll want to be familiar with Matlab's boolean types: __true__ and __false__"
   ]
  },
  {
   "cell_type": "code",
   "execution_count": 1,
   "metadata": {},
   "outputs": [
    {
     "name": "stdout",
     "output_type": "stream",
     "text": [
      "\n",
      "a =\n",
      "\n",
      "  logical\n",
      "\n",
      "   1\n",
      "\n"
     ]
    }
   ],
   "source": [
    "a = true"
   ]
  },
  {
   "cell_type": "code",
   "execution_count": 2,
   "metadata": {},
   "outputs": [
    {
     "name": "stdout",
     "output_type": "stream",
     "text": [
      "\n",
      "b =\n",
      "\n",
      "  logical\n",
      "\n",
      "   0\n",
      "\n"
     ]
    }
   ],
   "source": [
    "b = false"
   ]
  },
  {
   "cell_type": "markdown",
   "metadata": {},
   "source": [
    "The logical type __true__ numerically takes a value of 1; __false__ takes a value of 0."
   ]
  },
  {
   "cell_type": "markdown",
   "metadata": {},
   "source": [
    "These logical types are the basis for doing logical operations. Matlab has the usual logical operators available:\n",
    "\n",
    "* & logical and\n",
    "* && logical and with short-circuiting\n",
    "* | logical or\n",
    "* || logical or with short short-circuiting\n",
    "* ~ logical not\n",
    "\n",
    "Note. The short-circuit operations work on scalars only."
   ]
  },
  {
   "cell_type": "markdown",
   "metadata": {},
   "source": [
    "Matlab also has the traditional relational operators:\n",
    "\n",
    "* == equal\n",
    "* ~= not equal\n",
    "* < less than\n",
    "* \\> greater than\n",
    "* <= less than or equal\n",
    "* \\>= greater than or equal"
   ]
  },
  {
   "cell_type": "markdown",
   "metadata": {},
   "source": [
    "Let's look at some examples of using these operators."
   ]
  },
  {
   "cell_type": "markdown",
   "metadata": {},
   "source": [
    "Create two variables __a__ and __b__:"
   ]
  },
  {
   "cell_type": "code",
   "execution_count": 3,
   "metadata": {},
   "outputs": [],
   "source": [
    "a = 2; b = 3;"
   ]
  },
  {
   "cell_type": "markdown",
   "metadata": {},
   "source": [
    "Check if a > b and assign the result to a variable called __c__:"
   ]
  },
  {
   "cell_type": "code",
   "execution_count": 4,
   "metadata": {},
   "outputs": [
    {
     "name": "stdout",
     "output_type": "stream",
     "text": [
      "\n",
      "c =\n",
      "\n",
      "  logical\n",
      "\n",
      "   0\n",
      "\n"
     ]
    }
   ],
   "source": [
    "c = a > b"
   ]
  },
  {
   "cell_type": "markdown",
   "metadata": {},
   "source": [
    "Note __c__ is a logical type. Specifically, __c__ is __false__ since __a__ is not greater than __b__."
   ]
  },
  {
   "cell_type": "markdown",
   "metadata": {},
   "source": [
    "Let's create a variable __d__ equal to 29 and use it in a boolean expression:"
   ]
  },
  {
   "cell_type": "code",
   "execution_count": 5,
   "metadata": {},
   "outputs": [],
   "source": [
    "d = 29;"
   ]
  },
  {
   "cell_type": "code",
   "execution_count": 6,
   "metadata": {},
   "outputs": [
    {
     "name": "stdout",
     "output_type": "stream",
     "text": [
      "\n",
      "e =\n",
      "\n",
      "  logical\n",
      "\n",
      "   0\n",
      "\n"
     ]
    }
   ],
   "source": [
    "e = (a > b) && (d >= 20)"
   ]
  },
  {
   "cell_type": "markdown",
   "metadata": {},
   "source": [
    "Above we asked if __a__ is greater than __b__ AND is __d__ greater than or equal to 20. One of the statements is false, so the AND of them will be a logical false."
   ]
  },
  {
   "cell_type": "markdown",
   "metadata": {},
   "source": [
    "Now we ask if a is greater than b OR if d is greater than or equal to 20. The second statement is true (i.e. 29 $\\ge$ 20) so __f__ will be true since for __f__ to be true only one of the statements neeeds to be true."
   ]
  },
  {
   "cell_type": "code",
   "execution_count": 7,
   "metadata": {},
   "outputs": [
    {
     "name": "stdout",
     "output_type": "stream",
     "text": [
      "\n",
      "f =\n",
      "\n",
      "  logical\n",
      "\n",
      "   1\n",
      "\n"
     ]
    }
   ],
   "source": [
    "f = (d >= 20) || (a > b)"
   ]
  },
  {
   "cell_type": "markdown",
   "metadata": {},
   "source": [
    "The logical __not__ operator will reverse a logical type. Here \"not __f__\" will return a logical false since __f__ is a logical true."
   ]
  },
  {
   "cell_type": "code",
   "execution_count": 8,
   "metadata": {},
   "outputs": [
    {
     "name": "stdout",
     "output_type": "stream",
     "text": [
      "\n",
      "ans =\n",
      "\n",
      "  logical\n",
      "\n",
      "   0\n",
      "\n"
     ]
    }
   ],
   "source": [
    "~f"
   ]
  },
  {
   "cell_type": "markdown",
   "metadata": {},
   "source": [
    "Matlab provides some logical operator functions for arrays such as __any__ and __all__:\n",
    "* __any__ true if any element of the vector is nonzero\n",
    "* __all__ true if all elements of the vector are nonzero"
   ]
  },
  {
   "cell_type": "markdown",
   "metadata": {},
   "source": [
    "Let's create a vector z:"
   ]
  },
  {
   "cell_type": "code",
   "execution_count": 9,
   "metadata": {},
   "outputs": [
    {
     "name": "stdout",
     "output_type": "stream",
     "text": [
      "\n",
      "z =\n",
      "\n",
      "     0     0     0    -3     4     0     0    10     0   -99\n",
      "\n"
     ]
    }
   ],
   "source": [
    "z = [0 0 0 -3 4 0 0 10 0 -99]"
   ]
  },
  {
   "cell_type": "code",
   "execution_count": 10,
   "metadata": {},
   "outputs": [
    {
     "name": "stdout",
     "output_type": "stream",
     "text": [
      "\n",
      "ans =\n",
      "\n",
      "  logical\n",
      "\n",
      "   1\n",
      "\n"
     ]
    }
   ],
   "source": [
    "any(z)"
   ]
  },
  {
   "cell_type": "code",
   "execution_count": 11,
   "metadata": {},
   "outputs": [
    {
     "name": "stdout",
     "output_type": "stream",
     "text": [
      "\n",
      "ans =\n",
      "\n",
      "  logical\n",
      "\n",
      "   0\n",
      "\n"
     ]
    }
   ],
   "source": [
    "all(z)"
   ]
  },
  {
   "cell_type": "markdown",
   "metadata": {},
   "source": [
    "A useful function is __find__ which returns indices that correspond to nonzero elements of the array."
   ]
  },
  {
   "cell_type": "code",
   "execution_count": 12,
   "metadata": {},
   "outputs": [
    {
     "name": "stdout",
     "output_type": "stream",
     "text": [
      "\n",
      "z =\n",
      "\n",
      "     0     0     0    -3     4     0     0    10     0   -99\n",
      "\n"
     ]
    }
   ],
   "source": [
    "z"
   ]
  },
  {
   "cell_type": "code",
   "execution_count": 13,
   "metadata": {},
   "outputs": [
    {
     "name": "stdout",
     "output_type": "stream",
     "text": [
      "\n",
      "ans =\n",
      "\n",
      "     4     5     8    10\n",
      "\n"
     ]
    }
   ],
   "source": [
    "find(z)"
   ]
  },
  {
   "cell_type": "markdown",
   "metadata": {},
   "source": [
    "You can use __find__ to return just the nonzero elements of __z__:"
   ]
  },
  {
   "cell_type": "code",
   "execution_count": 14,
   "metadata": {},
   "outputs": [
    {
     "name": "stdout",
     "output_type": "stream",
     "text": [
      "\n",
      "ans =\n",
      "\n",
      "    -3     4    10   -99\n",
      "\n"
     ]
    }
   ],
   "source": [
    "z(find(z))"
   ]
  },
  {
   "cell_type": "markdown",
   "metadata": {},
   "source": [
    "Let's now apply some of what we've learned to matrices."
   ]
  },
  {
   "cell_type": "code",
   "execution_count": 15,
   "metadata": {},
   "outputs": [
    {
     "name": "stdout",
     "output_type": "stream",
     "text": [
      "\n",
      "A =\n",
      "\n",
      "     2   -32     9\n",
      "    66     2   -16\n",
      "\n"
     ]
    }
   ],
   "source": [
    "A = [2 -32 9; 66 2 -16]"
   ]
  },
  {
   "cell_type": "code",
   "execution_count": 16,
   "metadata": {},
   "outputs": [
    {
     "name": "stdout",
     "output_type": "stream",
     "text": [
      "\n",
      "B =\n",
      "\n",
      "     1     2    -2\n",
      "    12    43   -88\n",
      "\n"
     ]
    }
   ],
   "source": [
    "B = [1 2 -2; 12 43 -88]"
   ]
  },
  {
   "cell_type": "markdown",
   "metadata": {},
   "source": [
    "The following returns a logical array of whether an element of A is greater than zero."
   ]
  },
  {
   "cell_type": "code",
   "execution_count": 17,
   "metadata": {},
   "outputs": [
    {
     "name": "stdout",
     "output_type": "stream",
     "text": [
      "\n",
      "ans =\n",
      "\n",
      "  2x3 logical array\n",
      "\n",
      "   1   0   1\n",
      "   1   1   0\n",
      "\n"
     ]
    }
   ],
   "source": [
    "A > 0"
   ]
  },
  {
   "cell_type": "markdown",
   "metadata": {},
   "source": [
    "To get a logical array that indicates if the element of B is less than zero."
   ]
  },
  {
   "cell_type": "code",
   "execution_count": 18,
   "metadata": {},
   "outputs": [
    {
     "name": "stdout",
     "output_type": "stream",
     "text": [
      "\n",
      "ans =\n",
      "\n",
      "  2x3 logical array\n",
      "\n",
      "   0   0   1\n",
      "   0   0   1\n",
      "\n"
     ]
    }
   ],
   "source": [
    "B < 0"
   ]
  },
  {
   "cell_type": "markdown",
   "metadata": {},
   "source": [
    "You can do logical operations using logical arrays (can not use short-circuiting). The logical operation is done element-wise."
   ]
  },
  {
   "cell_type": "code",
   "execution_count": 19,
   "metadata": {},
   "outputs": [
    {
     "name": "stdout",
     "output_type": "stream",
     "text": [
      "\n",
      "ans =\n",
      "\n",
      "  2x3 logical array\n",
      "\n",
      "   0   0   1\n",
      "   0   0   0\n",
      "\n"
     ]
    }
   ],
   "source": [
    "(A > 0) & (B < 0)"
   ]
  },
  {
   "cell_type": "markdown",
   "metadata": {},
   "source": [
    "To return a logical array indicating elements of A that are greater than B."
   ]
  },
  {
   "cell_type": "code",
   "execution_count": 20,
   "metadata": {},
   "outputs": [
    {
     "name": "stdout",
     "output_type": "stream",
     "text": [
      "\n",
      "ans =\n",
      "\n",
      "  2x3 logical array\n",
      "\n",
      "   1   0   1\n",
      "   1   0   1\n",
      "\n"
     ]
    }
   ],
   "source": [
    "A > B"
   ]
  },
  {
   "cell_type": "markdown",
   "metadata": {},
   "source": [
    "To get a list of the elements in A that are greater than their corresponding elements in B."
   ]
  },
  {
   "cell_type": "code",
   "execution_count": 21,
   "metadata": {},
   "outputs": [
    {
     "name": "stdout",
     "output_type": "stream",
     "text": [
      "\n",
      "ans =\n",
      "\n",
      "     2\n",
      "    66\n",
      "     9\n",
      "   -16\n",
      "\n"
     ]
    }
   ],
   "source": [
    "A(A>B)"
   ]
  },
  {
   "cell_type": "markdown",
   "metadata": {},
   "source": [
    "### Programming Flows"
   ]
  },
  {
   "cell_type": "markdown",
   "metadata": {},
   "source": [
    "Let's look at some basic constructs for controlling the flow of you program: __if__ statement, __for__ loop, __while__ loop, and the __switch__ statement."
   ]
  },
  {
   "cell_type": "markdown",
   "metadata": {},
   "source": [
    "The basic structure of the __if__ statment is: <br />\n",
    "\n",
    "__if__ *expression* <br />\n",
    "&nbsp;&nbsp;&nbsp;statements <br />\n",
    "__end__ <br />\n",
    "\n",
    "The *expression* should evaluate to true or false and determines whether or not the statements inside the if block get executed."
   ]
  },
  {
   "cell_type": "code",
   "execution_count": 22,
   "metadata": {},
   "outputs": [
    {
     "name": "stdout",
     "output_type": "stream",
     "text": [
      "a is less than b\n"
     ]
    }
   ],
   "source": [
    "a = 2; b = 3;\n",
    "\n",
    "if (a < b)\n",
    "    disp('a is less than b')\n",
    "end"
   ]
  },
  {
   "cell_type": "code",
   "execution_count": 23,
   "metadata": {},
   "outputs": [
    {
     "name": "stdout",
     "output_type": "stream",
     "text": [
      "a is greater than or equal to b\n"
     ]
    }
   ],
   "source": [
    "a = 20; b = 10;\n",
    "\n",
    "if (a < b)\n",
    "    disp('a is less than b')\n",
    "else\n",
    "    disp('a is greater than or equal to b')\n",
    "end"
   ]
  },
  {
   "cell_type": "code",
   "execution_count": 24,
   "metadata": {},
   "outputs": [
    {
     "name": "stdout",
     "output_type": "stream",
     "text": [
      "a is equal to b\n"
     ]
    }
   ],
   "source": [
    "a = 20; b = 20;\n",
    "\n",
    "if (a < b)\n",
    "    disp('a is less than b')\n",
    "elseif (a > b)\n",
    "    disp('a is greater than b')\n",
    "else\n",
    "    disp('a is equal to b')\n",
    "end"
   ]
  },
  {
   "cell_type": "code",
   "execution_count": 25,
   "metadata": {},
   "outputs": [
    {
     "name": "stdout",
     "output_type": "stream",
     "text": [
      "a is greater than b\n"
     ]
    }
   ],
   "source": [
    "a = 20; b = 2; d = 15;\n",
    "\n",
    "if (a > b)\n",
    "    disp('a is greater than b')\n",
    "elseif (d > 10)\n",
    "    disp('d is greater than 10')\n",
    "else\n",
    "    disp('a is neither greater than b nor is d greater than 10')\n",
    "end"
   ]
  },
  {
   "cell_type": "markdown",
   "metadata": {},
   "source": [
    "The last expression shows that once a condition is true, the entire __if__ block is exited, i.e. the remaining conditions are not checked."
   ]
  },
  {
   "cell_type": "markdown",
   "metadata": {},
   "source": [
    "The for loop is a construct that allows you to iterate over a block of code. It's basic structure is\n",
    "\n",
    "__for__ *index* = *expression*<br />\n",
    "&nbsp;&nbsp;&nbsp;statements <br />\n",
    "__end__ <br />\n",
    "\n",
    "*index* is referred to as the index variable."
   ]
  },
  {
   "cell_type": "markdown",
   "metadata": {},
   "source": [
    "You can use a for loop to add up the first 10 integers:"
   ]
  },
  {
   "cell_type": "code",
   "execution_count": 26,
   "metadata": {},
   "outputs": [
    {
     "name": "stdout",
     "output_type": "stream",
     "text": [
      "\n",
      "sum =\n",
      "\n",
      "    55\n",
      "\n"
     ]
    }
   ],
   "source": [
    "sum = 0;\n",
    "N = 10;\n",
    "\n",
    "for i = 1:N\n",
    "    sum = sum + i;\n",
    "end\n",
    "\n",
    "sum"
   ]
  },
  {
   "cell_type": "markdown",
   "metadata": {},
   "source": [
    "The __for__ loop is also useful for indexing into a vector or matrix and performing calculations:"
   ]
  },
  {
   "cell_type": "code",
   "execution_count": 27,
   "metadata": {},
   "outputs": [
    {
     "name": "stdout",
     "output_type": "stream",
     "text": [
      "\n",
      "v =\n",
      "\n",
      "     0     0     0     0     0     0     0     0     0     0\n",
      "\n"
     ]
    }
   ],
   "source": [
    "% allocate a vector zeros\n",
    "\n",
    "v = zeros(10,1)'"
   ]
  },
  {
   "cell_type": "code",
   "execution_count": 28,
   "metadata": {},
   "outputs": [
    {
     "name": "stdout",
     "output_type": "stream",
     "text": [
      "\n",
      "v =\n",
      "\n",
      "  Columns 1 through 7\n",
      "\n",
      "         0    0.5377    2.0490   -1.4393    0.2865    0.4334   -1.1343\n",
      "\n",
      "  Columns 8 through 10\n",
      "\n",
      "   -0.8873   -0.0123    3.5735\n",
      "\n"
     ]
    }
   ],
   "source": [
    "%now fill the vector with some values\n",
    "\n",
    "lv = length(v);\n",
    "\n",
    "for j = 1:(lv - 1)\n",
    "    v(j+1) = 0.4*v(j) + randn;\n",
    "end\n",
    "v"
   ]
  },
  {
   "cell_type": "markdown",
   "metadata": {},
   "source": [
    "You can use the __break__ keyword to break out of for loops if some condition is met. Below we break out of the loop as soon as the value of sum is greater than or equal to 70."
   ]
  },
  {
   "cell_type": "code",
   "execution_count": 29,
   "metadata": {},
   "outputs": [
    {
     "name": "stdout",
     "output_type": "stream",
     "text": [
      "\n",
      "sum =\n",
      "\n",
      "    78\n",
      "\n"
     ]
    }
   ],
   "source": [
    "sum = 0;\n",
    "N = 100;\n",
    "\n",
    "for i = 1:N\n",
    "    sum = sum + i;\n",
    "    if sum >=70\n",
    "        break\n",
    "    end\n",
    "end\n",
    "sum"
   ]
  },
  {
   "cell_type": "markdown",
   "metadata": {},
   "source": [
    "The while loop is another construct that allows you to repeatedly execute a block of code. Instead of doing so for some \n",
    "fixed number or iterations, it does so while some condition is met (i.e. is true). It's basic structure is\n",
    "\n",
    "__while__ *expression*<br />\n",
    "&nbsp;&nbsp;&nbsp;statements <br />\n",
    "__end__ <br />\n",
    "\n",
    "To prevent the loop from running endlessly (\"infinite loop\") you'll want to be sure that the *expression* that the while loop depends on becomes false at some point. \n",
    "\n",
    "In the example below we use a while loop to calculate the factorial of 6."
   ]
  },
  {
   "cell_type": "code",
   "execution_count": 30,
   "metadata": {},
   "outputs": [
    {
     "name": "stdout",
     "output_type": "stream",
     "text": [
      "\n",
      "fact =\n",
      "\n",
      "   720\n",
      "\n"
     ]
    }
   ],
   "source": [
    "n = 6; \n",
    "fact = n;\n",
    "\n",
    "while (n > 1)\n",
    "    fact = fact * (n-1);\n",
    "    n = n-1;\n",
    "end\n",
    "fact"
   ]
  },
  {
   "cell_type": "markdown",
   "metadata": {},
   "source": [
    "Note Matlab has a built-in factorial __function__ you can use to calculate the factorial. The above while loop was just for illustrative purposes. You wouldn't want to use it to calculate the factorial in your code."
   ]
  },
  {
   "cell_type": "code",
   "execution_count": 31,
   "metadata": {},
   "outputs": [
    {
     "name": "stdout",
     "output_type": "stream",
     "text": [
      "\n",
      "ans =\n",
      "\n",
      "   720\n",
      "\n"
     ]
    }
   ],
   "source": [
    "factorial(6)"
   ]
  },
  {
   "cell_type": "markdown",
   "metadata": {},
   "source": [
    "The last Matlab programming construct we'll discuss is the **switch** statement which allows you to execute one of several groups of statements. The basic structure is\n",
    "\n",
    "__switch__ *switch_expression*<br />\n",
    "&nbsp;&nbsp;&nbsp;__case__ *case_expression*<br />\n",
    "&nbsp;&nbsp;&nbsp;&nbsp;&nbsp;&nbsp;statements<br />\n",
    "&nbsp;&nbsp;&nbsp;__case__ *case_expression*<br />\n",
    "&nbsp;&nbsp;&nbsp;&nbsp;&nbsp;&nbsp;statements<br />\n",
    "&nbsp;&nbsp;&nbsp;__otherwise__<br />\n",
    "&nbsp;&nbsp;&nbsp;&nbsp;&nbsp;&nbsp;statements<br />\n",
    "end"
   ]
  },
  {
   "cell_type": "code",
   "execution_count": null,
   "metadata": {},
   "outputs": [],
   "source": [
    "a = 2; b = 3;\n",
    "operator = '*';\n",
    "\n",
    "switch operator\n",
    "    case '+'\n",
    "        result = a + b;\n",
    "    case '-'\n",
    "        result = a - b;\n",
    "    case '*'\n",
    "        result = a * b;\n",
    "    case '/'\n",
    "        result = a/b;\n",
    "    otherwise\n",
    "        result = 'operation not defined';\n",
    "end\n",
    "result"
   ]
  },
  {
   "cell_type": "markdown",
   "metadata": {},
   "source": [
    "As soon as a case expression is true, its statement is executed and the switch block is exited."
   ]
  },
  {
   "cell_type": "markdown",
   "metadata": {},
   "source": [
    "# Exercise 3.\n",
    "\n",
    "1. Create a 1x20 random vector called __myvec__ using the *randn* function.\n",
    "2. Use if statements within a for loop to change the elements in __myvec__ so that a negative element is changed to -1, a positive element is changed to one."
   ]
  },
  {
   "cell_type": "markdown",
   "metadata": {},
   "source": [
    "In this lesson you learned:\n",
    "* The basic logical types true and false.\n",
    "* How to use logical and comparison operators on scalars, vectors, and matrices.\n",
    "* Using Matlab functions to do matrix subsetting.\n",
    "* Control flow structures: if statement, for loop, while loop, switch statement."
   ]
  }
 ],
 "metadata": {
  "kernelspec": {
   "display_name": "Matlab",
   "language": "matlab",
   "name": "matlab"
  },
  "language_info": {
   "codemirror_mode": "octave",
   "file_extension": ".m",
   "help_links": [
    {
     "text": "MetaKernel Magics",
     "url": "https://metakernel.readthedocs.io/en/latest/source/README.html"
    }
   ],
   "mimetype": "text/x-octave",
   "name": "matlab",
   "version": "0.17.1"
  }
 },
 "nbformat": 4,
 "nbformat_minor": 4
}
