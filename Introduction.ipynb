{
 "cells": [
  {
   "cell_type": "markdown",
   "metadata": {},
   "source": [
    "# I. Brief Overview\n",
    "\n",
    "* What is Matlab? \n",
    "\n",
    "  Matlab (MATrix Laboratory) is a special-purpose scientific programming application designed for engineering,\n",
    "  numerical, and scientific computation.\n",
    "\n",
    "\n",
    "* What are some advantages of Matlab? \n",
    "\n",
    "  Easy to use, powerful built-in routines and toolboxes, good programming environment with built-in editing an \n",
    "  debugging tools.\n",
    "\n",
    "\n",
    "* What are some disadvantages of Matlab?\n",
    "\n",
    "  Matlab is an interpreted language so it can be slow versus traditional compiled languages (such as C, Fortran). It is \n",
    "  not great for string handling or text parsing. Matlab must be licensed from Mathworks, Inc."
   ]
  },
  {
   "cell_type": "markdown",
   "metadata": {},
   "source": [
    "# II. Getting Started\n",
    "\n",
    "Let's create a variable called __a__ and assign it a value of 2:"
   ]
  },
  {
   "cell_type": "code",
   "execution_count": 1,
   "metadata": {},
   "outputs": [
    {
     "name": "stdout",
     "output_type": "stream",
     "text": [
      "\n",
      "a =\n",
      "\n",
      "     2\n",
      "\n"
     ]
    }
   ],
   "source": [
    "a = 2"
   ]
  },
  {
   "cell_type": "markdown",
   "metadata": {},
   "source": [
    "__=__ is the assignment operator. Placing a semicolon at the end of the command suppresses display of the variable:"
   ]
  },
  {
   "cell_type": "code",
   "execution_count": 2,
   "metadata": {},
   "outputs": [],
   "source": [
    "b = 2.3;"
   ]
  },
  {
   "cell_type": "markdown",
   "metadata": {},
   "source": [
    "You can create multiple variables in one line by separating them with a semicolon:"
   ]
  },
  {
   "cell_type": "code",
   "execution_count": 3,
   "metadata": {},
   "outputs": [],
   "source": [
    "c = 4.2; d = 3.9; e = 9;"
   ]
  },
  {
   "cell_type": "markdown",
   "metadata": {},
   "source": [
    "Basic aritmetic using created variables is done as you would expect. Let's add our variable __a__ to our variable __c__:"
   ]
  },
  {
   "cell_type": "code",
   "execution_count": 4,
   "metadata": {},
   "outputs": [
    {
     "name": "stdout",
     "output_type": "stream",
     "text": [
      "\n",
      "ans =\n",
      "\n",
      "    6.2000\n",
      "\n"
     ]
    }
   ],
   "source": [
    "a + c"
   ]
  },
  {
   "cell_type": "markdown",
   "metadata": {},
   "source": [
    "Now multiply the variable __c__ with __d__:"
   ]
  },
  {
   "cell_type": "code",
   "execution_count": 5,
   "metadata": {},
   "outputs": [
    {
     "name": "stdout",
     "output_type": "stream",
     "text": [
      "\n",
      "ans =\n",
      "\n",
      "   16.3800\n",
      "\n"
     ]
    }
   ],
   "source": [
    "c * d"
   ]
  },
  {
   "cell_type": "markdown",
   "metadata": {},
   "source": [
    "Let's raise __e__ to the 2nd power:"
   ]
  },
  {
   "cell_type": "code",
   "execution_count": 6,
   "metadata": {},
   "outputs": [
    {
     "name": "stdout",
     "output_type": "stream",
     "text": [
      "\n",
      "ans =\n",
      "\n",
      "    81\n",
      "\n"
     ]
    }
   ],
   "source": [
    "e^2"
   ]
  },
  {
   "cell_type": "markdown",
   "metadata": {},
   "source": [
    "Matlab's aritmetic operators follow commonly understood precedence rules as implemented in most programming languages and calculators. The complete operator precedence is explained here: \n",
    "https://www.mathworks.com/help/matlab/matlab_prog/operator-precedence.html. We will be covering some of these operators later while some we won't get to at all."
   ]
  },
  {
   "cell_type": "markdown",
   "metadata": {},
   "source": [
    "Importantly, parentheses can be used to indicate order of operations. Here we add 3 to the variable __a__ and raise that to the value of __e__ and assign the final result to a new variable __z__:"
   ]
  },
  {
   "cell_type": "code",
   "execution_count": 7,
   "metadata": {},
   "outputs": [
    {
     "name": "stdout",
     "output_type": "stream",
     "text": [
      "\n",
      "z =\n",
      "\n",
      "     1953125\n",
      "\n"
     ]
    }
   ],
   "source": [
    "z = (a + 3)^e"
   ]
  },
  {
   "cell_type": "markdown",
   "metadata": {},
   "source": [
    "Running the *whos* command shows you what variables are currently in your Matlab session along with some other useful information:"
   ]
  },
  {
   "cell_type": "code",
   "execution_count": 8,
   "metadata": {},
   "outputs": [
    {
     "name": "stdout",
     "output_type": "stream",
     "text": [
      "  Name      Size            Bytes  Class     Attributes\n",
      "\n",
      "  a         1x1                 8  double              \n",
      "  ans       1x1                 8  double              \n",
      "  b         1x1                 8  double              \n",
      "  c         1x1                 8  double              \n",
      "  d         1x1                 8  double              \n",
      "  e         1x1                 8  double              \n",
      "  z         1x1                 8  double              \n",
      "\n"
     ]
    }
   ],
   "source": [
    "whos"
   ]
  },
  {
   "cell_type": "markdown",
   "metadata": {},
   "source": [
    "Note the size of each object is given in bytes. Doing \"clear\" will delete all variables:"
   ]
  },
  {
   "cell_type": "code",
   "execution_count": 9,
   "metadata": {},
   "outputs": [],
   "source": [
    "clear"
   ]
  },
  {
   "cell_type": "code",
   "execution_count": 10,
   "metadata": {},
   "outputs": [],
   "source": [
    "whos"
   ]
  },
  {
   "cell_type": "markdown",
   "metadata": {},
   "source": [
    "We can create a 3x1 matrix:"
   ]
  },
  {
   "cell_type": "code",
   "execution_count": 11,
   "metadata": {},
   "outputs": [
    {
     "name": "stdout",
     "output_type": "stream",
     "text": [
      "\n",
      "m =\n",
      "\n",
      "     1\n",
      "     2\n",
      "     3\n",
      "\n"
     ]
    }
   ],
   "source": [
    "m = [1; 2; 3]"
   ]
  },
  {
   "cell_type": "markdown",
   "metadata": {},
   "source": [
    "How about a 1x4 matrix?"
   ]
  },
  {
   "cell_type": "code",
   "execution_count": 12,
   "metadata": {},
   "outputs": [
    {
     "name": "stdout",
     "output_type": "stream",
     "text": [
      "\n",
      "v =\n",
      "\n",
      "     1     2     3     4\n",
      "\n"
     ]
    }
   ],
   "source": [
    "v = [1 2 3 4]"
   ]
  },
  {
   "cell_type": "markdown",
   "metadata": {},
   "source": [
    "To check the dimension of __m__ use the size command:"
   ]
  },
  {
   "cell_type": "code",
   "execution_count": 13,
   "metadata": {},
   "outputs": [
    {
     "name": "stdout",
     "output_type": "stream",
     "text": [
      "\n",
      "ans =\n",
      "\n",
      "     3     1\n",
      "\n"
     ]
    }
   ],
   "source": [
    "size(m)"
   ]
  },
  {
   "cell_type": "markdown",
   "metadata": {},
   "source": [
    "The *size* command outputs the number of rows by the number of columns. We can also assign the output of the *size* command to new variables __nr__ and __nc__:"
   ]
  },
  {
   "cell_type": "code",
   "execution_count": 14,
   "metadata": {},
   "outputs": [
    {
     "name": "stdout",
     "output_type": "stream",
     "text": [
      "\n",
      "nr =\n",
      "\n",
      "     3\n",
      "\n",
      "\n",
      "nc =\n",
      "\n",
      "     1\n",
      "\n"
     ]
    }
   ],
   "source": [
    "[nr nc] = size(m)"
   ]
  },
  {
   "cell_type": "markdown",
   "metadata": {},
   "source": [
    "Commonly use mathematical constants are defined in Matlab so there is no need to define them youserself:"
   ]
  },
  {
   "cell_type": "code",
   "execution_count": 15,
   "metadata": {},
   "outputs": [
    {
     "name": "stdout",
     "output_type": "stream",
     "text": [
      "\n",
      "ans =\n",
      "\n",
      "    3.1416\n",
      "\n"
     ]
    }
   ],
   "source": [
    "pi"
   ]
  },
  {
   "cell_type": "markdown",
   "metadata": {},
   "source": [
    "The *rand* function can be used to create a random number uniformly distributed between 0 and 1:"
   ]
  },
  {
   "cell_type": "code",
   "execution_count": 16,
   "metadata": {},
   "outputs": [
    {
     "name": "stdout",
     "output_type": "stream",
     "text": [
      "\n",
      "ans =\n",
      "\n",
      "    0.8147\n",
      "\n"
     ]
    }
   ],
   "source": [
    "rand"
   ]
  },
  {
   "cell_type": "markdown",
   "metadata": {},
   "source": [
    "And the *randn* function will generate a number from the stanard normal distribution:"
   ]
  },
  {
   "cell_type": "code",
   "execution_count": 17,
   "metadata": {},
   "outputs": [
    {
     "name": "stdout",
     "output_type": "stream",
     "text": [
      "\n",
      "ans =\n",
      "\n",
      "    1.8339\n",
      "\n"
     ]
    }
   ],
   "source": [
    "randn"
   ]
  },
  {
   "cell_type": "markdown",
   "metadata": {},
   "source": [
    "To insert comments in your code use the \"%\" symbol in front of the text. This tells Matlab to ignore everything after the \"%\" sign on that line."
   ]
  },
  {
   "cell_type": "code",
   "execution_count": 18,
   "metadata": {},
   "outputs": [],
   "source": [
    "% This is a comment. This line is ignored and so will not get interpreted by Matlab."
   ]
  },
  {
   "cell_type": "markdown",
   "metadata": {},
   "source": [
    "Matlab has built-in help documentation on its commands:"
   ]
  },
  {
   "cell_type": "code",
   "execution_count": 19,
   "metadata": {},
   "outputs": [
    {
     "name": "stdout",
     "output_type": "stream",
     "text": [
      " LOG    Natural logarithm.\n",
      "    LOG(X) is the natural logarithm of the elements of X.\n",
      "    Complex results are produced if X is not positive.\n",
      " \n",
      "    See also LOG1P, LOG2, LOG10, EXP, LOGM, REALLOG.\n",
      "\n",
      "    Documentation for log\n",
      "       doc log\n",
      "\n",
      "    Other uses of log\n",
      "\n",
      "       codistributed/log\n",
      "       comm/log\n",
      "       cvx/log\n",
      "       dlarray/log\n",
      "       gpuArray/log\n",
      "       matlab.git.GitRepository/log\n",
      "       matlab.unittest.fixtures.Fixture/log\n",
      "       matlab.unittest.TestCase/log\n",
      "       quaternion/log\n",
      "       sym/log\n",
      "       symbolic/log\n",
      "       tabular/log\n",
      "       waveletScattering/log\n",
      "       waveletScattering2/log\n",
      "\n"
     ]
    }
   ],
   "source": [
    "help log"
   ]
  },
  {
   "cell_type": "markdown",
   "metadata": {},
   "source": [
    "As mentioned before there are a lot of built-in functions ready to use:"
   ]
  },
  {
   "cell_type": "code",
   "execution_count": 20,
   "metadata": {},
   "outputs": [
    {
     "name": "stdout",
     "output_type": "stream",
     "text": [
      "  Elementary math functions.\n",
      " \n",
      "  Trigonometric.\n",
      "    sin         - Sine.\n",
      "    sind        - Sine of argument in degrees.\n",
      "    sinh        - Hyperbolic sine.\n",
      "    asin        - Inverse sine.\n",
      "    asind       - Inverse sine, result in degrees.\n",
      "    asinh       - Inverse hyperbolic sine.\n",
      "    cos         - Cosine.\n",
      "    cosd        - Cosine of argument in degrees.\n",
      "    cosh        - Hyperbolic cosine.\n",
      "    acos        - Inverse cosine.\n",
      "    acosd       - Inverse cosine, result in degrees.\n",
      "    acosh       - Inverse hyperbolic cosine.\n",
      "    tan         - Tangent.\n",
      "    tand        - Tangent of argument in degrees.\n",
      "    tanh        - Hyperbolic tangent.\n",
      "    atan        - Inverse tangent.\n",
      "    atand       - Inverse tangent, result in degrees.\n",
      "    atan2       - Four quadrant inverse tangent.\n",
      "    atan2d      - Four quadrant inverse tangent, result in degrees.\n",
      "    atanh       - Inverse hyperbolic tangent.\n",
      "    sec         - Secant.\n",
      "    secd        - Secant of argument in degrees.\n",
      "    sech        - Hyperbolic secant.\n",
      "    asec        - Inverse secant.\n",
      "    asecd       - Inverse secant, result in degrees.\n",
      "    asech       - Inverse hyperbolic secant.\n",
      "    csc         - Cosecant.\n",
      "    cscd        - Cosecant of argument in degrees.\n",
      "    csch        - Hyperbolic cosecant.\n",
      "    acsc        - Inverse cosecant.\n",
      "    acscd       - Inverse cosecant, result in degrees.\n",
      "    acsch       - Inverse hyperbolic cosecant.\n",
      "    cot         - Cotangent.\n",
      "    cotd        - Cotangent of argument in degrees.\n",
      "    coth        - Hyperbolic cotangent.\n",
      "    acot        - Inverse cotangent.\n",
      "    acotd       - Inverse cotangent, result in degrees.\n",
      "    acoth       - Inverse hyperbolic cotangent.\n",
      "    hypot       - Square root of sum of squares.\n",
      "    deg2rad     - Convert angles from degrees to radians.\n",
      "    rad2deg     - Convert angles from radians to degrees.\n",
      " \n",
      "  Exponential.\n",
      "    exp         - Exponential.\n",
      "    expm1       - Compute exp(x)-1 accurately.\n",
      "    log         - Natural logarithm.\n",
      "    log1p       - Compute log(1+x) accurately.\n",
      "    log10       - Common (base 10) logarithm.\n",
      "    log2        - Base 2 logarithm and dissect floating point number.\n",
      "    pow2        - Base 2 power and scale floating point number.\n",
      "    realpow     - Power that will error out on complex result.\n",
      "    reallog     - Natural logarithm of real number.\n",
      "    realsqrt    - Square root of number greater than or equal to zero.\n",
      "    sqrt        - Square root.\n",
      "    nthroot     - Real n-th root of real numbers.\n",
      "    nextpow2    - Next higher power of 2.\n",
      " \n",
      "  Complex.\n",
      "    abs         - Absolute value.\n",
      "    angle       - Phase angle.\n",
      "    complex     - Construct complex data from real and imaginary parts.\n",
      "    conj        - Complex conjugate.\n",
      "    imag        - Complex imaginary part.\n",
      "    real        - Complex real part.\n",
      "    unwrap      - Unwrap phase angle.\n",
      "    isreal      - True for real array.\n",
      "    cplxpair    - Sort numbers into complex conjugate pairs.\n",
      " \n",
      "  Rounding and remainder.\n",
      "    fix         - Round towards zero.\n",
      "    floor       - Round towards minus infinity.\n",
      "    ceil        - Round towards plus infinity.\n",
      "    round       - Round towards nearest integer.\n",
      "    mod         - Modulus (signed remainder after division).\n",
      "    rem         - Remainder after division.\n",
      "    sign        - Signum.\n",
      "\n"
     ]
    }
   ],
   "source": [
    "help elfun"
   ]
  },
  {
   "cell_type": "code",
   "execution_count": 21,
   "metadata": {},
   "outputs": [
    {
     "name": "stdout",
     "output_type": "stream",
     "text": [
      "  Specialized math functions.\n",
      " \n",
      "  Specialized math functions.\n",
      "    airy        - Airy functions.\n",
      "    besselj     - Bessel function of the first kind.\n",
      "    bessely     - Bessel function of the second kind.\n",
      "    besselh     - Bessel functions of the third kind (Hankel function).\n",
      "    besseli     - Modified Bessel function of the first kind.\n",
      "    besselk     - Modified Bessel function of the second kind.\n",
      "    beta        - Beta function.\n",
      "    betainc     - Incomplete beta function.\n",
      "    betaincinv  - Inverse incomplete beta function.\n",
      "    betaln      - Logarithm of beta function.\n",
      "    ellipj      - Jacobi elliptic functions.\n",
      "    ellipke     - Complete elliptic integral.\n",
      "    erf         - Error function.\n",
      "    erfc        - Complementary error function.\n",
      "    erfcx       - Scaled complementary error function.\n",
      "    erfinv      - Inverse error function.\n",
      "    erfcinv     - Inverse complementary error function.\n",
      "    expint      - Exponential integral function.\n",
      "    gamma       - Gamma function.\n",
      "    gammainc    - Incomplete gamma function.\n",
      "    gammaincinv - Inverse incomplete gamma function. \n",
      "    gammaln     - Logarithm of gamma function.\n",
      "    psi         - Psi (polygamma) function.\n",
      "    legendre    - Associated Legendre function.\n",
      "    cross       - Vector cross product.\n",
      "    dot         - Vector dot product.\n",
      " \n",
      "  Number theoretic functions.\n",
      "    factor      - Prime factors.\n",
      "    isprime     - True for prime numbers.\n",
      "    primes      - Generate list of prime numbers.\n",
      "    gcd         - Greatest common divisor.\n",
      "    lcm         - Least common multiple.\n",
      "    rat         - Rational approximation.\n",
      "    rats        - Rational output.\n",
      "    perms       - All possible permutations.\n",
      "    nchoosek    - All combinations of N elements taken K at a time.\n",
      "    factorial   - Factorial function.\n",
      " \n",
      "  Coordinate transforms.\n",
      "    cart2sph    - Transform Cartesian to spherical coordinates.\n",
      "    cart2pol    - Transform Cartesian to polar coordinates.\n",
      "    pol2cart    - Transform polar to Cartesian coordinates.\n",
      "    sph2cart    - Transform spherical to Cartesian coordinates.\n",
      "    hsv2rgb     - Convert hue-saturation-value colors to red-green-blue.\n",
      "    rgb2hsv     - Convert red-green-blue colors to hue-saturation-value.\n",
      "\n"
     ]
    }
   ],
   "source": [
    "help specfun"
   ]
  },
  {
   "cell_type": "markdown",
   "metadata": {},
   "source": [
    "# Exercise 1.\n",
    "\n",
    "1. Create a variable called \"myvar\" and set it equal to the value 3.2.\n",
    "2. Add 10.8 to \"myvar,\" raise this quantity to the 2nd power, and then assign the result to a variable named \"newvar\"."
   ]
  },
  {
   "cell_type": "markdown",
   "metadata": {},
   "source": [
    "In this lesson you learned:\n",
    "* What Matlab is as well as its strengths and weaknesses.\n",
    "* How to create variables.\n",
    "* How to do basic arithmetic with those variables.\n",
    "* About some basic built-in Matlab functions: whos, size, rand, randn.\n",
    "* How to create single-line comments.\n",
    "* How to access help documentation."
   ]
  }
 ],
 "metadata": {
  "kernelspec": {
   "display_name": "Matlab",
   "language": "matlab",
   "name": "matlab"
  },
  "language_info": {
   "codemirror_mode": "octave",
   "file_extension": ".m",
   "help_links": [
    {
     "text": "MetaKernel Magics",
     "url": "https://metakernel.readthedocs.io/en/latest/source/README.html"
    }
   ],
   "mimetype": "text/x-octave",
   "name": "matlab",
   "version": "0.17.1"
  }
 },
 "nbformat": 4,
 "nbformat_minor": 4
}
